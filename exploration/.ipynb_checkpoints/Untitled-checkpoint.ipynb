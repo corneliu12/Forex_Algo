{
 "cells": [
  {
   "cell_type": "code",
   "execution_count": 1,
   "id": "5ea686e1",
   "metadata": {},
   "outputs": [],
   "source": [
    "import requests\n",
    "import pandas as pd\n",
    "import json"
   ]
  },
  {
   "cell_type": "code",
   "execution_count": 2,
   "id": "662b9107",
   "metadata": {},
   "outputs": [],
   "source": [
    "ACCOUNT_ID = \"101-001-17960231-001\"\n",
    "API_KEY = \"cdc82e28b48f1bd14d1ace5c80115808-0c51aeaf25aa2ffde07b57b4bf83f5e0\"\n",
    "OANDA_URL = \"https://api-fxpractice.oanda.com/v3\""
   ]
  },
  {
   "cell_type": "code",
   "execution_count": 3,
   "id": "6fa2801c",
   "metadata": {},
   "outputs": [],
   "source": [
    "session = requests.Session()"
   ]
  },
  {
   "cell_type": "code",
   "execution_count": 4,
   "id": "a18e360a",
   "metadata": {},
   "outputs": [],
   "source": [
    "session.headers.update({\n",
    "    \"Authorization\": f\"Bearer {API_KEY}\",\n",
    "    \"Content-Type\": \"application/json\"\n",
    "})"
   ]
  },
  {
   "cell_type": "code",
   "execution_count": null,
   "id": "d2ef232b",
   "metadata": {},
   "outputs": [],
   "source": [
    "params = dict(\n",
    "    count = 10,\n",
    "    granularity = \"H1\"\n",
    ")"
   ]
  },
  {
   "cell_type": "code",
   "execution_count": null,
   "id": "b7230687",
   "metadata": {},
   "outputs": [],
   "source": [
    "url = f\"{OANDA_URL}/instruments/EUR_USD/candles\""
   ]
  }
 ],
 "metadata": {
  "kernelspec": {
   "display_name": "Python 3 (ipykernel)",
   "language": "python",
   "name": "python3"
  },
  "language_info": {
   "codemirror_mode": {
    "name": "ipython",
    "version": 3
   },
   "file_extension": ".py",
   "mimetype": "text/x-python",
   "name": "python",
   "nbconvert_exporter": "python",
   "pygments_lexer": "ipython3",
   "version": "3.10.9"
  }
 },
 "nbformat": 4,
 "nbformat_minor": 5
}

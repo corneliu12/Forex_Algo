{
 "cells": [
  {
   "cell_type": "code",
   "execution_count": 24,
   "id": "9837c1c9",
   "metadata": {},
   "outputs": [],
   "source": [
    "import requests\n",
    "import pandas as pd\n",
    "import json\n",
    "from dateutil import parser"
   ]
  },
  {
   "cell_type": "code",
   "execution_count": 25,
   "id": "9fe65007",
   "metadata": {},
   "outputs": [],
   "source": [
    "ACCOUNT_ID = \"101-001-17960231-001\"\n",
    "API_KEY = \"cdc82e28b48f1bd14d1ace5c80115808-0c51aeaf25aa2ffde07b57b4bf83f5e0\"\n",
    "OANDA_URL = \"https://api-fxpractice.oanda.com/v3\""
   ]
  },
  {
   "cell_type": "code",
   "execution_count": 26,
   "id": "418e60df",
   "metadata": {},
   "outputs": [],
   "source": [
    "session = requests.Session()"
   ]
  },
  {
   "cell_type": "code",
   "execution_count": 27,
   "id": "60ee0892",
   "metadata": {},
   "outputs": [],
   "source": [
    "session.headers.update({\n",
    "    \"Authorization\": f\"Bearer {API_KEY}\",\n",
    "    \"Content-Type\": \"application/json\"\n",
    "})"
   ]
  },
  {
   "cell_type": "code",
   "execution_count": 28,
   "id": "cda8c65e",
   "metadata": {},
   "outputs": [],
   "source": [
    "params = dict(\n",
    "    count = 10,\n",
    "    granularity = \"H1\",\n",
    "    price = \"MBA\"\n",
    ")"
   ]
  },
  {
   "cell_type": "code",
   "execution_count": 29,
   "id": "03ffc87b",
   "metadata": {},
   "outputs": [],
   "source": [
    "url = f\"{OANDA_URL}/accounts/{ACCOUNT_ID}/instruments\""
   ]
  },
  {
   "cell_type": "code",
   "execution_count": 30,
   "id": "e1ff7b21",
   "metadata": {},
   "outputs": [],
   "source": [
    "response = session.get(url, params=None, data=None, headers=None)"
   ]
  },
  {
   "cell_type": "code",
   "execution_count": 31,
   "id": "144b5b01",
   "metadata": {},
   "outputs": [
    {
     "data": {
      "text/plain": [
       "200"
      ]
     },
     "execution_count": 31,
     "metadata": {},
     "output_type": "execute_result"
    }
   ],
   "source": [
    "response.status_code"
   ]
  },
  {
   "cell_type": "code",
   "execution_count": 32,
   "id": "f2209784",
   "metadata": {},
   "outputs": [],
   "source": [
    "data = response.json()"
   ]
  },
  {
   "cell_type": "code",
   "execution_count": 33,
   "id": "02f158da",
   "metadata": {},
   "outputs": [],
   "source": [
    "instruments_list =data['instruments']"
   ]
  },
  {
   "cell_type": "code",
   "execution_count": 34,
   "id": "8fe7f04e",
   "metadata": {},
   "outputs": [
    {
     "data": {
      "text/plain": [
       "68"
      ]
     },
     "execution_count": 34,
     "metadata": {},
     "output_type": "execute_result"
    }
   ],
   "source": [
    "len(instruments_list)"
   ]
  },
  {
   "cell_type": "code",
   "execution_count": 35,
   "id": "a3642ee5",
   "metadata": {},
   "outputs": [
    {
     "data": {
      "text/plain": [
       "dict_keys(['name', 'type', 'displayName', 'pipLocation', 'displayPrecision', 'tradeUnitsPrecision', 'minimumTradeSize', 'maximumTrailingStopDistance', 'minimumTrailingStopDistance', 'maximumPositionSize', 'maximumOrderUnits', 'marginRate', 'guaranteedStopLossOrderMode', 'tags', 'financing'])"
      ]
     },
     "execution_count": 35,
     "metadata": {},
     "output_type": "execute_result"
    }
   ],
   "source": [
    "instruments_list[0].keys()"
   ]
  },
  {
   "cell_type": "code",
   "execution_count": 36,
   "id": "4592349e",
   "metadata": {},
   "outputs": [],
   "source": [
    "key_i = ['name', 'type', 'displayName', 'pipLocation', 'displayPrecision', 'tradeUnitsPrecision','marginRate']"
   ]
  },
  {
   "cell_type": "code",
   "execution_count": 37,
   "id": "0413ba76",
   "metadata": {},
   "outputs": [],
   "source": [
    "instruments_dict = {}\n",
    "for i in instruments_list:\n",
    "    key = i['name']\n",
    "    instruments_dict[key] = {k:i[k] for k in key_i}"
   ]
  },
  {
   "cell_type": "code",
   "execution_count": 38,
   "id": "59928ba0",
   "metadata": {},
   "outputs": [
    {
     "data": {
      "text/plain": [
       "{'name': 'USD_CAD',\n",
       " 'type': 'CURRENCY',\n",
       " 'displayName': 'USD/CAD',\n",
       " 'pipLocation': -4,\n",
       " 'displayPrecision': 5,\n",
       " 'tradeUnitsPrecision': 0,\n",
       " 'marginRate': '0.02'}"
      ]
     },
     "execution_count": 38,
     "metadata": {},
     "output_type": "execute_result"
    }
   ],
   "source": [
    "instruments_dict['USD_CAD']"
   ]
  },
  {
   "cell_type": "code",
   "execution_count": 39,
   "id": "8f1f7b1f",
   "metadata": {},
   "outputs": [],
   "source": [
    "with open(\"../data/instruments.json\", \"w\") as f:\n",
    "    f.write(json.dumps(instruments_dict, indent=2))"
   ]
  },
  {
   "cell_type": "code",
   "execution_count": 41,
   "id": "855e8340",
   "metadata": {},
   "outputs": [],
   "source": [
    "def fetch_candles(pair_name, count=10, granularity=\"H1\"):\n",
    "    url=f\"{OANDA_URL}/instruments/{pair_name}/candles\"\n",
    "    params = dict(\n",
    "        count = count,\n",
    "        granularity = granularity,\n",
    "        price = \"MBA\"\n",
    "    )\n",
    "    response = session.get(url, params=params, data=None, headers=None)\n",
    "    data = response.json()\n",
    "    \n",
    "    if response.status_code == 200:\n",
    "        if 'candles' not in data:\n",
    "            data=[]\n",
    "        else:\n",
    "            data= data['candles']\n",
    "    return response.status_code, data\n",
    "\n",
    "def get_candles_df(data):\n",
    "    if len(data)==0:\n",
    "        return pd.DataFrame()    \n",
    "    prices = ['mid', 'bid', 'ask']\n",
    "    ohlc = ['o', 'h', 'l', 'c']    \n",
    "    final_data = []\n",
    "    for candle in data:\n",
    "        if candle['complete'] == False:\n",
    "            continue\n",
    "        new_dict = {}\n",
    "        new_dict['time'] = parser.parse(candle['time'])\n",
    "        new_dict['volume'] = candle['volume']\n",
    "\n",
    "        for p in prices:\n",
    "            for o in ohlc:\n",
    "                new_dict[f\"{p}_{o}\"] = float(candle[p][o])\n",
    "\n",
    "        final_data.append(new_dict)\n",
    "    df = pd.DataFrame.from_dict(final_data)\n",
    "    return df\n",
    "\n",
    "def create_data_file(pair_name, count=10, granularity=\"H1\"):\n",
    "    code, data = fetch_candles(pair_name, count, granularity)\n",
    "    if code !=200:\n",
    "        print(\"Failed\", pair_name, data)\n",
    "        return\n",
    "    if len(data) == 0:\n",
    "        print(\"No candles\", pair_name)\n",
    "    candles_df = get_candles_df(data)\n",
    "    candles_df.to_pickle(f\"../data/{pair_name}_{granularity}.pkl\")\n",
    "    print(f\"{pair_name} {granularity} {candles_df.shape[0]} canles, {candles_df.time.min()} {candles_df.time.max()}\")"
   ]
  },
  {
   "cell_type": "code",
   "execution_count": null,
   "id": "253436a8",
   "metadata": {},
   "outputs": [],
   "source": []
  },
  {
   "cell_type": "code",
   "execution_count": 42,
   "id": "67113c58",
   "metadata": {},
   "outputs": [],
   "source": [
    "code, data = fetch_candles(\"EUR_USD\", count=10, granularity='H4')\n",
    "candles_df = get_candles_df(data)"
   ]
  },
  {
   "cell_type": "code",
   "execution_count": 19,
   "id": "ea6ae919",
   "metadata": {},
   "outputs": [
    {
     "data": {
      "text/plain": [
       "200"
      ]
     },
     "execution_count": 19,
     "metadata": {},
     "output_type": "execute_result"
    }
   ],
   "source": [
    "code"
   ]
  },
  {
   "cell_type": "code",
   "execution_count": 45,
   "id": "597fc640",
   "metadata": {},
   "outputs": [],
   "source": [
    "# generating pairs of currencies\n",
    "our_curr = ['EUR', 'USD', 'GBP', 'JPY', 'CHF', 'NZD', 'CAD', 'AUD']"
   ]
  },
  {
   "cell_type": "code",
   "execution_count": 48,
   "id": "cc54d1c2",
   "metadata": {},
   "outputs": [
    {
     "name": "stdout",
     "output_type": "stream",
     "text": [
      "EUR_USD H1 4001 canles, 2022-04-27 23:00:00+00:00 2022-12-16 21:00:00+00:00\n",
      "EUR_USD H4 4001 canles, 2020-05-26 01:00:00+00:00 2022-12-16 18:00:00+00:00\n",
      "EUR_GBP H1 4001 canles, 2022-04-27 21:00:00+00:00 2022-12-16 21:00:00+00:00\n",
      "EUR_GBP H4 4001 canles, 2020-05-26 01:00:00+00:00 2022-12-16 18:00:00+00:00\n",
      "EUR_JPY H1 4001 canles, 2022-04-27 15:00:00+00:00 2022-12-16 21:00:00+00:00\n",
      "EUR_JPY H4 4001 canles, 2020-05-25 17:00:00+00:00 2022-12-16 18:00:00+00:00\n",
      "EUR_CHF H1 4001 canles, 2022-04-28 00:00:00+00:00 2022-12-16 21:00:00+00:00\n",
      "EUR_CHF H4 4001 canles, 2020-05-26 01:00:00+00:00 2022-12-16 18:00:00+00:00\n",
      "EUR_NZD H1 4001 canles, 2022-04-27 23:00:00+00:00 2022-12-16 21:00:00+00:00\n",
      "EUR_NZD H4 4001 canles, 2020-05-26 01:00:00+00:00 2022-12-16 18:00:00+00:00\n",
      "EUR_CAD H1 4001 canles, 2022-04-28 00:00:00+00:00 2022-12-16 21:00:00+00:00\n",
      "EUR_CAD H4 4001 canles, 2020-05-26 01:00:00+00:00 2022-12-16 18:00:00+00:00\n",
      "EUR_AUD H1 4001 canles, 2022-04-27 22:00:00+00:00 2022-12-16 21:00:00+00:00\n",
      "EUR_AUD H4 4001 canles, 2020-05-26 01:00:00+00:00 2022-12-16 18:00:00+00:00\n",
      "USD_JPY H1 4001 canles, 2022-04-27 23:00:00+00:00 2022-12-16 21:00:00+00:00\n",
      "USD_JPY H4 4001 canles, 2020-05-26 05:00:00+00:00 2022-12-16 18:00:00+00:00\n",
      "USD_CHF H1 4001 canles, 2022-04-27 19:00:00+00:00 2022-12-16 21:00:00+00:00\n",
      "USD_CHF H4 4001 canles, 2020-05-26 01:00:00+00:00 2022-12-16 18:00:00+00:00\n",
      "USD_CAD H1 4001 canles, 2022-04-28 00:00:00+00:00 2022-12-16 21:00:00+00:00\n",
      "USD_CAD H4 4001 canles, 2020-05-26 01:00:00+00:00 2022-12-16 18:00:00+00:00\n",
      "GBP_USD H1 4001 canles, 2022-04-27 23:00:00+00:00 2022-12-16 21:00:00+00:00\n",
      "GBP_USD H4 4001 canles, 2020-05-26 01:00:00+00:00 2022-12-16 18:00:00+00:00\n",
      "GBP_JPY H1 4001 canles, 2022-04-28 00:00:00+00:00 2022-12-16 21:00:00+00:00\n",
      "GBP_JPY H4 4001 canles, 2020-05-26 01:00:00+00:00 2022-12-16 18:00:00+00:00\n",
      "GBP_CHF H1 4001 canles, 2022-04-28 00:00:00+00:00 2022-12-16 21:00:00+00:00\n",
      "GBP_CHF H4 4001 canles, 2020-05-26 01:00:00+00:00 2022-12-16 18:00:00+00:00\n",
      "GBP_NZD H1 4001 canles, 2022-04-27 23:00:00+00:00 2022-12-16 21:00:00+00:00\n",
      "GBP_NZD H4 4001 canles, 2020-05-26 01:00:00+00:00 2022-12-16 18:00:00+00:00\n",
      "GBP_CAD H1 4001 canles, 2022-04-28 00:00:00+00:00 2022-12-16 21:00:00+00:00\n",
      "GBP_CAD H4 4001 canles, 2020-05-26 01:00:00+00:00 2022-12-16 18:00:00+00:00\n",
      "GBP_AUD H1 4001 canles, 2022-04-27 23:00:00+00:00 2022-12-16 21:00:00+00:00\n",
      "GBP_AUD H4 4001 canles, 2020-05-26 01:00:00+00:00 2022-12-16 18:00:00+00:00\n",
      "CHF_JPY H1 4001 canles, 2022-04-28 00:00:00+00:00 2022-12-16 21:00:00+00:00\n",
      "CHF_JPY H4 4001 canles, 2020-05-26 01:00:00+00:00 2022-12-16 18:00:00+00:00\n",
      "NZD_USD H1 4001 canles, 2022-04-27 18:00:00+00:00 2022-12-16 21:00:00+00:00\n",
      "NZD_USD H4 4001 canles, 2020-05-26 05:00:00+00:00 2022-12-16 18:00:00+00:00\n",
      "NZD_JPY H1 4001 canles, 2022-04-27 23:00:00+00:00 2022-12-16 21:00:00+00:00\n",
      "NZD_JPY H4 4001 canles, 2020-05-26 05:00:00+00:00 2022-12-16 18:00:00+00:00\n",
      "NZD_CHF H1 4001 canles, 2022-04-27 17:00:00+00:00 2022-12-16 21:00:00+00:00\n",
      "NZD_CHF H4 4001 canles, 2020-05-25 21:00:00+00:00 2022-12-16 18:00:00+00:00\n",
      "NZD_CAD H1 4001 canles, 2022-04-27 23:00:00+00:00 2022-12-16 21:00:00+00:00\n",
      "NZD_CAD H4 4001 canles, 2020-05-26 01:00:00+00:00 2022-12-16 18:00:00+00:00\n",
      "CAD_JPY H1 4001 canles, 2022-04-28 00:00:00+00:00 2022-12-16 21:00:00+00:00\n",
      "CAD_JPY H4 4001 canles, 2020-05-26 01:00:00+00:00 2022-12-16 18:00:00+00:00\n",
      "CAD_CHF H1 4001 canles, 2022-04-28 00:00:00+00:00 2022-12-16 21:00:00+00:00\n",
      "CAD_CHF H4 4001 canles, 2020-05-26 01:00:00+00:00 2022-12-16 18:00:00+00:00\n",
      "AUD_USD H1 4001 canles, 2022-04-27 18:00:00+00:00 2022-12-16 21:00:00+00:00\n",
      "AUD_USD H4 4001 canles, 2020-05-26 01:00:00+00:00 2022-12-16 18:00:00+00:00\n",
      "AUD_JPY H1 4001 canles, 2022-04-28 00:00:00+00:00 2022-12-16 21:00:00+00:00\n",
      "AUD_JPY H4 4001 canles, 2020-05-27 01:00:00+00:00 2022-12-16 18:00:00+00:00\n",
      "AUD_CHF H1 4001 canles, 2022-04-27 17:00:00+00:00 2022-12-16 21:00:00+00:00\n",
      "AUD_CHF H4 4001 canles, 2020-05-25 21:00:00+00:00 2022-12-16 18:00:00+00:00\n",
      "AUD_NZD H1 4001 canles, 2022-04-27 17:00:00+00:00 2022-12-16 21:00:00+00:00\n",
      "AUD_NZD H4 4001 canles, 2020-05-25 21:00:00+00:00 2022-12-16 18:00:00+00:00\n",
      "AUD_CAD H1 4001 canles, 2022-04-28 00:00:00+00:00 2022-12-16 21:00:00+00:00\n",
      "AUD_CAD H4 4001 canles, 2020-05-26 01:00:00+00:00 2022-12-16 18:00:00+00:00\n"
     ]
    }
   ],
   "source": [
    "# save the data in pkl format\n",
    "for p1 in our_curr:\n",
    "    for p2 in our_curr:\n",
    "        pr = f\"{p1}_{p2}\"\n",
    "        if pr in instruments_dict:\n",
    "            for g in[\"H1\", \"H4\"]:\n",
    "                create_data_file(pr, count=4001, granularity=g)"
   ]
  },
  {
   "cell_type": "code",
   "execution_count": null,
   "id": "8a263b9c",
   "metadata": {},
   "outputs": [],
   "source": []
  },
  {
   "cell_type": "code",
   "execution_count": null,
   "id": "e53cb39e",
   "metadata": {},
   "outputs": [],
   "source": []
  },
  {
   "cell_type": "code",
   "execution_count": null,
   "id": "f21ccf99",
   "metadata": {},
   "outputs": [],
   "source": []
  },
  {
   "cell_type": "code",
   "execution_count": null,
   "id": "76f410ae",
   "metadata": {},
   "outputs": [],
   "source": []
  },
  {
   "cell_type": "code",
   "execution_count": null,
   "id": "a29bce82",
   "metadata": {},
   "outputs": [],
   "source": []
  },
  {
   "cell_type": "code",
   "execution_count": null,
   "id": "5909ad1e",
   "metadata": {},
   "outputs": [],
   "source": []
  },
  {
   "cell_type": "code",
   "execution_count": null,
   "id": "5f86c089",
   "metadata": {},
   "outputs": [],
   "source": []
  }
 ],
 "metadata": {
  "kernelspec": {
   "display_name": "Python 3 (ipykernel)",
   "language": "python",
   "name": "python3"
  },
  "language_info": {
   "codemirror_mode": {
    "name": "ipython",
    "version": 3
   },
   "file_extension": ".py",
   "mimetype": "text/x-python",
   "name": "python",
   "nbconvert_exporter": "python",
   "pygments_lexer": "ipython3",
   "version": "3.10.9"
  }
 },
 "nbformat": 4,
 "nbformat_minor": 5
}

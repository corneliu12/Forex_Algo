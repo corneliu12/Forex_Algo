{
 "cells": [
  {
   "cell_type": "code",
   "execution_count": 1,
   "id": "03ed1ac7",
   "metadata": {},
   "outputs": [],
   "source": [
    "import requests\n",
    "import pandas as pd\n",
    "import json"
   ]
  },
  {
   "cell_type": "code",
   "execution_count": 2,
   "id": "1942958c",
   "metadata": {},
   "outputs": [],
   "source": [
    "ACCOUNT_ID = \"101-001-17960231-001\"\n",
    "API_KEY = \"cdc82e28b48f1bd14d1ace5c80115808-0c51aeaf25aa2ffde07b57b4bf83f5e0\"\n",
    "OANDA_URL = \"https://api-fxpractice.oanda.com/v3\""
   ]
  },
  {
   "cell_type": "code",
   "execution_count": 3,
   "id": "e898cf07",
   "metadata": {},
   "outputs": [],
   "source": [
    "session = requests.Session()"
   ]
  },
  {
   "cell_type": "code",
   "execution_count": 4,
   "id": "33ce5f08",
   "metadata": {},
   "outputs": [],
   "source": [
    "session.headers.update({\n",
    "    \"Authorization\": f\"Bearer {API_KEY}\",\n",
    "    \"Content-Type\": \"application/json\"\n",
    "})"
   ]
  },
  {
   "cell_type": "code",
   "execution_count": 10,
   "id": "4e1c771f",
   "metadata": {},
   "outputs": [],
   "source": [
    "params = dict(\n",
    "    count = 10,\n",
    "    granularity = \"H1\",\n",
    "    price = \"MBA\"\n",
    ")"
   ]
  },
  {
   "cell_type": "code",
   "execution_count": 11,
   "id": "cba0a336",
   "metadata": {},
   "outputs": [],
   "source": [
    "url = f\"{OANDA_URL}/instruments/EUR_USD/candles\""
   ]
  },
  {
   "cell_type": "code",
   "execution_count": 12,
   "id": "225985c7",
   "metadata": {},
   "outputs": [],
   "source": [
    "response = session.get(url, params=params, data=None, headers=None)"
   ]
  },
  {
   "cell_type": "code",
   "execution_count": 13,
   "id": "a958e7ba",
   "metadata": {},
   "outputs": [
    {
     "data": {
      "text/plain": [
       "200"
      ]
     },
     "execution_count": 13,
     "metadata": {},
     "output_type": "execute_result"
    }
   ],
   "source": [
    "response.status_code"
   ]
  },
  {
   "cell_type": "code",
   "execution_count": 14,
   "id": "f82341f2",
   "metadata": {},
   "outputs": [
    {
     "data": {
      "text/plain": [
       "{'instrument': 'EUR_USD',\n",
       " 'granularity': 'H1',\n",
       " 'candles': [{'complete': True,\n",
       "   'volume': 15695,\n",
       "   'time': '2022-12-15T15:00:00.000000000Z',\n",
       "   'bid': {'o': '1.06983', 'h': '1.07041', 'l': '1.06226', 'c': '1.06477'},\n",
       "   'mid': {'o': '1.06992', 'h': '1.07048', 'l': '1.06235', 'c': '1.06485'},\n",
       "   'ask': {'o': '1.07000', 'h': '1.07056', 'l': '1.06242', 'c': '1.06493'}},\n",
       "  {'complete': True,\n",
       "   'volume': 9774,\n",
       "   'time': '2022-12-15T16:00:00.000000000Z',\n",
       "   'bid': {'o': '1.06474', 'h': '1.06560', 'l': '1.06278', 'c': '1.06364'},\n",
       "   'mid': {'o': '1.06482', 'h': '1.06568', 'l': '1.06285', 'c': '1.06372'},\n",
       "   'ask': {'o': '1.06490', 'h': '1.06575', 'l': '1.06292', 'c': '1.06379'}},\n",
       "  {'complete': True,\n",
       "   'volume': 8441,\n",
       "   'time': '2022-12-15T17:00:00.000000000Z',\n",
       "   'bid': {'o': '1.06368', 'h': '1.06379', 'l': '1.05921', 'c': '1.05983'},\n",
       "   'mid': {'o': '1.06375', 'h': '1.06386', 'l': '1.05929', 'c': '1.05990'},\n",
       "   'ask': {'o': '1.06382', 'h': '1.06393', 'l': '1.05937', 'c': '1.05997'}},\n",
       "  {'complete': True,\n",
       "   'volume': 5374,\n",
       "   'time': '2022-12-15T18:00:00.000000000Z',\n",
       "   'bid': {'o': '1.05987', 'h': '1.06232', 'l': '1.05917', 'c': '1.06218'},\n",
       "   'mid': {'o': '1.05994', 'h': '1.06239', 'l': '1.05924', 'c': '1.06225'},\n",
       "   'ask': {'o': '1.06001', 'h': '1.06246', 'l': '1.05931', 'c': '1.06232'}},\n",
       "  {'complete': True,\n",
       "   'volume': 4490,\n",
       "   'time': '2022-12-15T19:00:00.000000000Z',\n",
       "   'bid': {'o': '1.06217', 'h': '1.06365', 'l': '1.06183', 'c': '1.06301'},\n",
       "   'mid': {'o': '1.06225', 'h': '1.06372', 'l': '1.06191', 'c': '1.06308'},\n",
       "   'ask': {'o': '1.06233', 'h': '1.06379', 'l': '1.06198', 'c': '1.06316'}},\n",
       "  {'complete': True,\n",
       "   'volume': 3855,\n",
       "   'time': '2022-12-15T20:00:00.000000000Z',\n",
       "   'bid': {'o': '1.06302', 'h': '1.06376', 'l': '1.06207', 'c': '1.06243'},\n",
       "   'mid': {'o': '1.06308', 'h': '1.06383', 'l': '1.06214', 'c': '1.06251'},\n",
       "   'ask': {'o': '1.06315', 'h': '1.06390', 'l': '1.06221', 'c': '1.06259'}},\n",
       "  {'complete': True,\n",
       "   'volume': 1529,\n",
       "   'time': '2022-12-15T21:00:00.000000000Z',\n",
       "   'bid': {'o': '1.06242', 'h': '1.06270', 'l': '1.06192', 'c': '1.06252'},\n",
       "   'mid': {'o': '1.06250', 'h': '1.06280', 'l': '1.06200', 'c': '1.06267'},\n",
       "   'ask': {'o': '1.06259', 'h': '1.06290', 'l': '1.06207', 'c': '1.06282'}},\n",
       "  {'complete': True,\n",
       "   'volume': 1736,\n",
       "   'time': '2022-12-15T22:00:00.000000000Z',\n",
       "   'bid': {'o': '1.06254', 'h': '1.06286', 'l': '1.06183', 'c': '1.06282'},\n",
       "   'mid': {'o': '1.06285', 'h': '1.06309', 'l': '1.06229', 'c': '1.06306'},\n",
       "   'ask': {'o': '1.06316', 'h': '1.06337', 'l': '1.06257', 'c': '1.06331'}},\n",
       "  {'complete': True,\n",
       "   'volume': 1319,\n",
       "   'time': '2022-12-15T23:00:00.000000000Z',\n",
       "   'bid': {'o': '1.06285', 'h': '1.06383', 'l': '1.06254', 'c': '1.06380'},\n",
       "   'mid': {'o': '1.06307', 'h': '1.06392', 'l': '1.06270', 'c': '1.06388'},\n",
       "   'ask': {'o': '1.06329', 'h': '1.06400', 'l': '1.06277', 'c': '1.06395'}},\n",
       "  {'complete': False,\n",
       "   'volume': 1777,\n",
       "   'time': '2022-12-16T00:00:00.000000000Z',\n",
       "   'bid': {'o': '1.06380', 'h': '1.06427', 'l': '1.06364', 'c': '1.06400'},\n",
       "   'mid': {'o': '1.06388', 'h': '1.06435', 'l': '1.06372', 'c': '1.06408'},\n",
       "   'ask': {'o': '1.06396', 'h': '1.06443', 'l': '1.06381', 'c': '1.06416'}}]}"
      ]
     },
     "execution_count": 14,
     "metadata": {},
     "output_type": "execute_result"
    }
   ],
   "source": [
    "response.json()"
   ]
  },
  {
   "cell_type": "code",
   "execution_count": null,
   "id": "1d68f976",
   "metadata": {},
   "outputs": [],
   "source": []
  },
  {
   "cell_type": "code",
   "execution_count": null,
   "id": "a5b1676e",
   "metadata": {},
   "outputs": [],
   "source": []
  }
 ],
 "metadata": {
  "kernelspec": {
   "display_name": "Python 3 (ipykernel)",
   "language": "python",
   "name": "python3"
  },
  "language_info": {
   "codemirror_mode": {
    "name": "ipython",
    "version": 3
   },
   "file_extension": ".py",
   "mimetype": "text/x-python",
   "name": "python",
   "nbconvert_exporter": "python",
   "pygments_lexer": "ipython3",
   "version": "3.10.9"
  }
 },
 "nbformat": 4,
 "nbformat_minor": 5
}
